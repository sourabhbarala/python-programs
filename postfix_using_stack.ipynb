{
 "cells": [
  {
   "cell_type": "code",
   "execution_count": 1,
   "id": "4f907d16-e9e1-467b-8350-403d9e8d4ed3",
   "metadata": {},
   "outputs": [],
   "source": [
    "class stack:\n",
    "    def __init__(self):\n",
    "        self.st=''\n",
    "        \n",
    "    def push(self,v):\n",
    "        self.st+=v\n",
    "        \n",
    "    def pop(self):\n",
    "        if self.st=='':\n",
    "            return\n",
    "        l=len(self.st)\n",
    "        temp=self.st[l-1]\n",
    "        self.st=self.st[:(l-1)]\n",
    "        return temp\n",
    "    \n",
    "    def top(self):\n",
    "        if self.st=='':\n",
    "            return None\n",
    "        else:\n",
    "            return self.st[len(self.st)-1]\n",
    "\n",
    "    def show(self):\n",
    "        print(self.st)"
   ]
  },
  {
   "cell_type": "code",
   "execution_count": 2,
   "id": "7a616498-917b-4a55-95fd-b89b7b5a8178",
   "metadata": {},
   "outputs": [],
   "source": [
    "def postfix():\n",
    "    \n",
    "    order='-+*/^'\n",
    "    ops=stack()\n",
    "    postfix_exp=stack()\n",
    "    infix=input('enter expression: ')\n",
    "    \n",
    "    for i in infix:\n",
    "        if i.isnumeric() or i.isalpha():\n",
    "            postfix_exp.push(i)\n",
    "            \n",
    "        elif i in order:\n",
    "            if ops.top()!=None and (order.find(ops.top()))>(order.find(i)):  # more priority present\n",
    "                while ops.top!=None and ops.top()!='(' and order.find(ops.top())>order.find(i):\n",
    "                    ops.show()\n",
    "                    postfix_exp.push(ops.pop())\n",
    "            ops.push(i)\n",
    "    \n",
    "        elif i=='(':\n",
    "            ops.push(i)\n",
    "        \n",
    "        elif i==')':\n",
    "            while ops.top()!='(':\n",
    "                postfix_exp.push(ops.pop())\n",
    "            ops.pop()\n",
    "        \n",
    "    while ops.top()!=None:\n",
    "        postfix_exp.push(ops.pop())\n",
    "    postfix_exp.show()\n",
    "    ops.show()"
   ]
  },
  {
   "cell_type": "code",
   "execution_count": null,
   "id": "a8272908-76b2-4128-81b6-5cc4daf4102e",
   "metadata": {},
   "outputs": [],
   "source": []
  }
 ],
 "metadata": {
  "kernelspec": {
   "display_name": "Python 3 (ipykernel)",
   "language": "python",
   "name": "python3"
  },
  "language_info": {
   "codemirror_mode": {
    "name": "ipython",
    "version": 3
   },
   "file_extension": ".py",
   "mimetype": "text/x-python",
   "name": "python",
   "nbconvert_exporter": "python",
   "pygments_lexer": "ipython3",
   "version": "3.10.9"
  }
 },
 "nbformat": 4,
 "nbformat_minor": 5
}
